{
 "cells": [
  {
   "cell_type": "code",
   "execution_count": 1,
   "metadata": {},
   "outputs": [
    {
     "name": "stdout",
     "output_type": "stream",
     "text": [
      "1\n"
     ]
    }
   ],
   "source": [
    "'''\n",
    "Prints out the positions of the letter \"f\" within a given string\n",
    "\n",
    "    Given:\n",
    "    a(str): a string\n",
    "    \n",
    "    Output:\n",
    "    index of the letter \"f\" (int): if the letter appears once,\n",
    "    only one index should be included in the responce. If there are\n",
    "    two or more letters, the output will contain the first and last\n",
    "    indexes. If \"f\" is not found, the outpu will be blank\n",
    "'''\n",
    "# Test   \n",
    "\n",
    "a = 'office'\n",
    "posA = a.find('f')\n",
    "posB = \n",
    "print(pos, \"first pos\")\n"
   ]
  },
  {
   "cell_type": "code",
   "execution_count": 13,
   "metadata": {},
   "outputs": [
    {
     "name": "stdout",
     "output_type": "stream",
     "text": [
      "1 2\n"
     ]
    }
   ],
   "source": [
    "a = 'office'\n",
    "pos = a.find('f')\n",
    "if pos >= 0:\n",
    "    # print(pos)\n",
    "    b = a[::-1]\n",
    "    posB = b.find('f')\n",
    "    realB = len(a) - 1 - posB\n",
    "    if posB >= 0 and realB != pos:\n",
    "        print(pos, realB)\n",
    "    else:\n",
    "        print(pos)"
   ]
  },
  {
   "cell_type": "code",
   "execution_count": null,
   "metadata": {},
   "outputs": [],
   "source": []
  }
 ],
 "metadata": {
  "interpreter": {
   "hash": "6d58817d7a36abfa3a827e4c983e24a2b2aeec7ad475bf8b9406aeab7b3302d2"
  },
  "kernelspec": {
   "display_name": "Python 3.8.2 32-bit",
   "language": "python",
   "name": "python3"
  },
  "language_info": {
   "codemirror_mode": {
    "name": "ipython",
    "version": 3
   },
   "file_extension": ".py",
   "mimetype": "text/x-python",
   "name": "python",
   "nbconvert_exporter": "python",
   "pygments_lexer": "ipython3",
   "version": "3.8.2"
  },
  "orig_nbformat": 4
 },
 "nbformat": 4,
 "nbformat_minor": 2
}
