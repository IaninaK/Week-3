{
 "cells": [
  {
   "cell_type": "markdown",
   "metadata": {},
   "source": [
    " 1 2 3 4 5 6\n",
    " S T R I N G\n",
    "-6-5-4-3-2-1"
   ]
  },
  {
   "cell_type": "code",
   "execution_count": 1,
   "metadata": {},
   "outputs": [
    {
     "name": "stdout",
     "output_type": "stream",
     "text": [
      "rin\n",
      "trin\n",
      "Str\n",
      "ring\n",
      "String\n",
      "ti\n",
      "gnirtS\n"
     ]
    }
   ],
   "source": [
    "s = \"String\"\n",
    "print(s[2:5])    # [from(boarder):to(boarder)]\n",
    "print(s[1:-1])\n",
    "print(s[:3])\n",
    "print(s[2:])\n",
    "print(s[:])\n",
    "print(s[1:5:2])  # [from:to:step]\n",
    "print(s[::-1])"
   ]
  },
  {
   "cell_type": "code",
   "execution_count": 5,
   "metadata": {},
   "outputs": [
    {
     "name": "stdout",
     "output_type": "stream",
     "text": [
      "a\n",
      "f\n",
      "e\n",
      "ab\n",
      "ace\n",
      "bdf\n"
     ]
    }
   ],
   "source": [
    "s = \"abcdef\"\n",
    "print(s[0])\n",
    "print(s[-1])\n",
    "print(s[-2])\n",
    "print(s[0:2])  #the two does not count\n",
    "print(s[::2])\n",
    "print(s[1::2])"
   ]
  },
  {
   "cell_type": "code",
   "execution_count": 8,
   "metadata": {},
   "outputs": [
    {
     "name": "stdout",
     "output_type": "stream",
     "text": [
      "9\n",
      "-1\n"
     ]
    }
   ],
   "source": [
    "s = 'ancd abc abd'\n",
    "print(s.find('abd')) #output = substring position\n",
    "print(s.find('abe')) #this doesn't exist within the string"
   ]
  },
  {
   "cell_type": "code",
   "execution_count": 12,
   "metadata": {},
   "outputs": [
    {
     "name": "stdout",
     "output_type": "stream",
     "text": [
      "0\n",
      "5\n"
     ]
    }
   ],
   "source": [
    "s = 'abcd abc abd'\n",
    "pos = 0 # starting position\n",
    "while s.find('abc', pos) != -1:\n",
    "    print(s.find('abc', pos))\n",
    "    pos = s.find('abc', pos) + 1 "
   ]
  },
  {
   "cell_type": "code",
   "execution_count": null,
   "metadata": {},
   "outputs": [],
   "source": []
  }
 ],
 "metadata": {
  "interpreter": {
   "hash": "6d58817d7a36abfa3a827e4c983e24a2b2aeec7ad475bf8b9406aeab7b3302d2"
  },
  "kernelspec": {
   "display_name": "Python 3.8.2 32-bit",
   "language": "python",
   "name": "python3"
  },
  "language_info": {
   "codemirror_mode": {
    "name": "ipython",
    "version": 3
   },
   "file_extension": ".py",
   "mimetype": "text/x-python",
   "name": "python",
   "nbconvert_exporter": "python",
   "pygments_lexer": "ipython3",
   "version": "3.8.2"
  },
  "orig_nbformat": 4
 },
 "nbformat": 4,
 "nbformat_minor": 2
}
